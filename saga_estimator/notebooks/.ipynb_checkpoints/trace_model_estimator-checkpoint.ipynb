{
 "cells": [
  {
   "cell_type": "code",
   "execution_count": null,
   "metadata": {
    "colab": {
     "base_uri": "https://localhost:8080/",
     "height": 241
    },
    "id": "Oac_Jsg7qYqz",
    "outputId": "13c5b892-1167-4a10-a484-6e5f882fe98d"
   },
   "outputs": [
    {
     "name": "stdout",
     "output_type": "stream",
     "text": [
      "Batch size: 2325\n",
      "Training size: 1743 | Testing size: 582 - (0.75)\n"
     ]
    },
    {
     "data": {
      "text/html": [
       "<div>\n",
       "<style scoped>\n",
       "    .dataframe tbody tr th:only-of-type {\n",
       "        vertical-align: middle;\n",
       "    }\n",
       "\n",
       "    .dataframe tbody tr th {\n",
       "        vertical-align: top;\n",
       "    }\n",
       "\n",
       "    .dataframe thead th {\n",
       "        text-align: right;\n",
       "    }\n",
       "</style>\n",
       "<table border=\"1\" class=\"dataframe\">\n",
       "  <thead>\n",
       "    <tr style=\"text-align: right;\">\n",
       "      <th></th>\n",
       "      <th>Codebase</th>\n",
       "      <th>Feature</th>\n",
       "      <th>Cluster</th>\n",
       "      <th>CLIP</th>\n",
       "      <th>CRIP</th>\n",
       "      <th>CROP</th>\n",
       "      <th>CWOP</th>\n",
       "      <th>CIP</th>\n",
       "      <th>COP</th>\n",
       "      <th>CPIF</th>\n",
       "      <th>CIOF</th>\n",
       "      <th>Orchestrator</th>\n",
       "    </tr>\n",
       "  </thead>\n",
       "  <tbody>\n",
       "    <tr>\n",
       "      <th>0</th>\n",
       "      <td>ldod-static</td>\n",
       "      <td>FragmentController.getTaxonomy</td>\n",
       "      <td>1</td>\n",
       "      <td>0.4</td>\n",
       "      <td>0.6</td>\n",
       "      <td>0.75</td>\n",
       "      <td>0.25</td>\n",
       "      <td>0.454545</td>\n",
       "      <td>0.571429</td>\n",
       "      <td>1.333333</td>\n",
       "      <td>1.333333</td>\n",
       "      <td>0</td>\n",
       "    </tr>\n",
       "    <tr>\n",
       "      <th>1</th>\n",
       "      <td>ldod-static</td>\n",
       "      <td>FragmentController.getTaxonomy</td>\n",
       "      <td>2</td>\n",
       "      <td>0.4</td>\n",
       "      <td>0.6</td>\n",
       "      <td>0.60</td>\n",
       "      <td>0.40</td>\n",
       "      <td>0.454545</td>\n",
       "      <td>0.357143</td>\n",
       "      <td>1.666667</td>\n",
       "      <td>0.833333</td>\n",
       "      <td>1</td>\n",
       "    </tr>\n",
       "    <tr>\n",
       "      <th>2</th>\n",
       "      <td>ldod-static</td>\n",
       "      <td>FragmentController.getTaxonomy</td>\n",
       "      <td>0</td>\n",
       "      <td>0.0</td>\n",
       "      <td>1.0</td>\n",
       "      <td>1.00</td>\n",
       "      <td>0.00</td>\n",
       "      <td>0.090909</td>\n",
       "      <td>0.071429</td>\n",
       "      <td>0.000000</td>\n",
       "      <td>0.833333</td>\n",
       "      <td>0</td>\n",
       "    </tr>\n",
       "    <tr>\n",
       "      <th>3</th>\n",
       "      <td>ldod-static</td>\n",
       "      <td>VirtualEditionController.addParticipant</td>\n",
       "      <td>1</td>\n",
       "      <td>0.5</td>\n",
       "      <td>0.5</td>\n",
       "      <td>0.50</td>\n",
       "      <td>0.50</td>\n",
       "      <td>0.500000</td>\n",
       "      <td>0.600000</td>\n",
       "      <td>1.714286</td>\n",
       "      <td>1.285714</td>\n",
       "      <td>0</td>\n",
       "    </tr>\n",
       "    <tr>\n",
       "      <th>4</th>\n",
       "      <td>ldod-static</td>\n",
       "      <td>VirtualEditionController.addParticipant</td>\n",
       "      <td>0</td>\n",
       "      <td>0.0</td>\n",
       "      <td>1.0</td>\n",
       "      <td>1.00</td>\n",
       "      <td>0.00</td>\n",
       "      <td>0.125000</td>\n",
       "      <td>0.100000</td>\n",
       "      <td>0.000000</td>\n",
       "      <td>0.857143</td>\n",
       "      <td>1</td>\n",
       "    </tr>\n",
       "  </tbody>\n",
       "</table>\n",
       "</div>"
      ],
      "text/plain": [
       "      Codebase                                  Feature  ...      CIOF  Orchestrator\n",
       "0  ldod-static           FragmentController.getTaxonomy  ...  1.333333             0\n",
       "1  ldod-static           FragmentController.getTaxonomy  ...  0.833333             1\n",
       "2  ldod-static           FragmentController.getTaxonomy  ...  0.833333             0\n",
       "3  ldod-static  VirtualEditionController.addParticipant  ...  1.285714             0\n",
       "4  ldod-static  VirtualEditionController.addParticipant  ...  0.857143             1\n",
       "\n",
       "[5 rows x 12 columns]"
      ]
     },
     "execution_count": 42,
     "metadata": {
      "tags": []
     },
     "output_type": "execute_result"
    }
   ],
   "source": [
    "import pandas as pd\n",
    "import numpy as np\n",
    "\n",
    "from matplotlib import pyplot as plt\n",
    "\n",
    "# Make numpy values easier to read.\n",
    "np.set_printoptions(precision=3, suppress=True)\n",
    "\n",
    "from IPython.display import clear_output\n",
    "import tensorflow as tf\n",
    "from tensorflow.keras import layers\n",
    "from tensorflow.keras.layers.experimental import preprocessing\n",
    "\n",
    "\n",
    "CSV_FILE = \"ml-dataset-23-03.csv\"\n",
    "CSV_ROWS = [\"Codebase\", \"Feature\", \"Cluster\", \"CLIP\", \"CRIP\", \"CROP\", \"CWOP\", \"CIP\", \"COP\", \"CPIF\", \"CIOF\", \"Orchestrator\"]\n",
    "\n",
    "TRAINING_BATCH_PERCENTAGE = 0.75\n",
    "\n",
    "EXPORT_MODEL = False\n",
    "\n",
    "# Load dataset.\n",
    "trace_dataset = pd.read_csv(CSV_FILE, names=CSV_ROWS, skiprows=1, usecols = [i for i in CSV_ROWS if i not in ['Codebase','Cluster']])\n",
    "#trace_dataset = pd.read_csv(CSV_FILE, names=CSV_ROWS, skiprows=1, usecols = [i for i in CSV_ROWS])\n",
    "\n",
    "# set BATCH_SIZE, its the total number of rows in the .csv \n",
    "BATCH_SIZE = trace_dataset[\"Orchestrator\"].size\n",
    "TRAINING_BATCH_SIZE = int(BATCH_SIZE * TRAINING_BATCH_PERCENTAGE)\n",
    "TESTING_BATCH_SIZE = BATCH_SIZE - TRAINING_BATCH_SIZE\n",
    "\n",
    "print(f\"Batch size: {BATCH_SIZE}\")\n",
    "print(f\"Training size: {TRAINING_BATCH_SIZE} | Testing size: {TESTING_BATCH_SIZE} - ({TRAINING_BATCH_PERCENTAGE})\")\n",
    "\n",
    "train_dataset = trace_dataset[:TRAINING_BATCH_SIZE]\n",
    "eval_dataset = trace_dataset[TRAINING_BATCH_SIZE:]\n",
    "\n",
    "train_labels = train_dataset.pop('Orchestrator')\n",
    "eval_labels = eval_dataset.pop('Orchestrator')\n",
    "\n",
    "trace_dataset.head()"
   ]
  },
  {
   "cell_type": "code",
   "execution_count": null,
   "metadata": {
    "id": "ESnQtNGv_JDp"
   },
   "outputs": [],
   "source": [
    "CATEGORICAL_COLUMNS = [\"Feature\"]\n",
    "#CATEGORICAL_COLUMNS = ['Feature', 'Cluster', 'Codebase']\n",
    "NUMERIC_COLUMNS = [\"CLIP\", \"CRIP\", \"CROP\", \"CWOP\", \"CIP\", \"COP\", \"CPIF\", \"CIOF\"]\n",
    "\n",
    "def one_hot_cat_column(feature_name, vocab):\n",
    "  return tf.feature_column.indicator_column(\n",
    "      tf.feature_column.categorical_column_with_vocabulary_list(feature_name, vocab))\n",
    "\n",
    "feature_columns = []\n",
    "for feature_name in CATEGORICAL_COLUMNS:\n",
    "  # Need to one-hot encode categorical features.\n",
    "  vocabulary = train_dataset[feature_name].unique()\n",
    "  feature_columns.append(one_hot_cat_column(feature_name, vocabulary))\n",
    "\n",
    "for feature_name in NUMERIC_COLUMNS:\n",
    "  feature_columns.append(tf.feature_column.numeric_column(feature_name,\n",
    "                                           dtype=tf.float32))\n",
    "\n",
    "# Use entire batch since this is such a small dataset.\n",
    "NUM_EXAMPLES = len(train_labels)\n",
    "\n",
    "def make_input_fn(X, y, n_epochs=None, shuffle=True):\n",
    "  def input_fn():\n",
    "    dataset = tf.data.Dataset.from_tensor_slices((dict(X), y))\n",
    "    if shuffle:\n",
    "      dataset = dataset.shuffle(NUM_EXAMPLES)\n",
    "    # For training, cycle thru dataset as many times as need (n_epochs=None).\n",
    "    dataset = dataset.repeat(n_epochs)\n",
    "    # In memory training doesn't use batching.\n",
    "    dataset = dataset.batch(NUM_EXAMPLES)\n",
    "    return dataset\n",
    "  return input_fn\n",
    "\n",
    "# Training and evaluation input functions.\n",
    "train_input_fn = make_input_fn(train_dataset, train_labels)\n",
    "eval_input_fn = make_input_fn(eval_dataset, eval_labels, shuffle=False, n_epochs=1)"
   ]
  },
  {
   "cell_type": "markdown",
   "metadata": {
    "id": "AGlMKzgBASw9"
   },
   "source": [
    "# Train the model"
   ]
  },
  {
   "cell_type": "markdown",
   "metadata": {
    "id": "0N-PGS4BBkMK"
   },
   "source": [
    "Below you will do the following steps:\n",
    "\n",
    "- Initialize the model, specifying the features and hyperparameters.\n",
    "\n",
    "- Feed the training data to the model using the `train_input_fn` and train the model using the `train` function.\n",
    "\n",
    "- You will assess model performance using the evaluation set—in this example, the `eval_dataset` DataFrame. You will verify that the predictions match the labels from the `eval_labels` array.\n",
    "\n",
    "\n",
    "Before training a **Boosted Trees model**, `let's first train a linear classifier (logistic regression model)`. It is best practice to start with a simpler model to establish a benchmark."
   ]
  },
  {
   "cell_type": "code",
   "execution_count": null,
   "metadata": {
    "colab": {
     "base_uri": "https://localhost:8080/"
    },
    "id": "I4-EkzlOAUCq",
    "outputId": "c647ba50-e14e-48cf-b2d0-e5bb6f140d18"
   },
   "outputs": [
    {
     "name": "stdout",
     "output_type": "stream",
     "text": [
      "accuracy                  0.694158\n",
      "accuracy_baseline         0.692440\n",
      "auc                       0.689237\n",
      "auc_precision_recall      0.464312\n",
      "average_loss              0.578013\n",
      "label/mean                0.307560\n",
      "loss                      0.578013\n",
      "precision                 0.526316\n",
      "prediction/mean           0.302238\n",
      "recall                    0.055866\n",
      "global_step             100.000000\n",
      "dtype: float64\n"
     ]
    }
   ],
   "source": [
    "linear_est = tf.estimator.LinearClassifier(feature_columns)\n",
    "\n",
    "# Train model.\n",
    "linear_est.train(train_input_fn, max_steps=100)\n",
    "\n",
    "# Evaluation.\n",
    "result = linear_est.evaluate(eval_input_fn)\n",
    "clear_output()\n",
    "print(pd.Series(result))"
   ]
  },
  {
   "cell_type": "markdown",
   "metadata": {
    "id": "L0E2xWoYCTlt"
   },
   "source": [
    "Next let's train a **Boosted Trees model**. \n",
    "\n",
    "For boosted trees, regression (BoostedTreesRegressor) and classification (BoostedTreesClassifier) are supported. Since the goal is to predict a class - `Orchestrator` or `Not Orchestrator`, you will use the BoostedTreesClassifier."
   ]
  },
  {
   "cell_type": "code",
   "execution_count": null,
   "metadata": {
    "colab": {
     "base_uri": "https://localhost:8080/"
    },
    "id": "CeblQCN-CSIz",
    "outputId": "775efe9f-b62f-497b-e230-e844dafa3d7a"
   },
   "outputs": [
    {
     "name": "stdout",
     "output_type": "stream",
     "text": [
      "accuracy                  0.680412\n",
      "accuracy_baseline         0.692440\n",
      "auc                       0.663917\n",
      "auc_precision_recall      0.427990\n",
      "average_loss              0.618424\n",
      "label/mean                0.307560\n",
      "loss                      0.618424\n",
      "precision                 0.478261\n",
      "prediction/mean           0.348483\n",
      "recall                    0.430168\n",
      "global_step             100.000000\n",
      "dtype: float64\n"
     ]
    }
   ],
   "source": [
    "# Since data fits into memory, use entire dataset per layer. It will be faster.\n",
    "# Above one batch is defined as the entire dataset.\n",
    "\n",
    "params = {\n",
    "  'n_trees': 100,\n",
    "  'max_depth': 8,\n",
    "  'n_batches_per_layer': 1,\n",
    "  # You must enable center_bias = True to get DFCs. This will force the model to \n",
    "  # make an initial prediction before using any features (e.g. use the mean of \n",
    "  # the training labels for regression or log odds for classification when\n",
    "  # using cross entropy loss).\n",
    "  'center_bias': True\n",
    "}\n",
    "\n",
    "estimator = tf.estimator.BoostedTreesClassifier(feature_columns, **params)\n",
    "\n",
    "# The model will stop training once the specified number of trees is built, not\n",
    "# based on the number of steps.\n",
    "estimator.train(train_input_fn, max_steps=100)\n",
    "\n",
    "# Eval.\n",
    "result = estimator.evaluate(eval_input_fn)\n",
    "clear_output()\n",
    "print(pd.Series(result))"
   ]
  },
  {
   "cell_type": "code",
   "execution_count": null,
   "metadata": {
    "colab": {
     "base_uri": "https://localhost:8080/",
     "height": 1000
    },
    "id": "mGn3cnCcJyZu",
    "outputId": "e54a565e-1506-47a9-deb0-0293ea173d9f"
   },
   "outputs": [
    {
     "name": "stdout",
     "output_type": "stream",
     "text": [
      "1's:\n",
      "\n",
      "Prediction: 1 |  Label: 1\n",
      "Prediction: 1 |  Label: 1\n",
      "Prediction: 1 |  Label: 1\n",
      "Prediction: 1 |  Label: 1\n",
      "Prediction: 1 |  Label: 1\n",
      "0's:\n",
      "\n",
      "Prediction: 0 |  Label: 0\n",
      "Prediction: 0 |  Label: 0\n",
      "Prediction: 0 |  Label: 0\n",
      "Prediction: 0 |  Label: 0\n",
      "Prediction: 0 |  Label: 0\n"
     ]
    },
    {
     "data": {
      "image/png": "[encoded data removed]",
      "text/plain": [
       "<Figure size 432x288 with 1 Axes>"
      ]
     },
     "metadata": {
      "needs_background": "light",
      "tags": []
     },
     "output_type": "display_data"
    },
    {
     "data": {
      "image/png": "[encoded data removed]",
      "text/plain": [
       "<Figure size 432x288 with 1 Axes>"
      ]
     },
     "metadata": {
      "needs_background": "light",
      "tags": []
     },
     "output_type": "display_data"
    },
    {
     "data": {
      "image/png": "[encoded data removed]",
      "text/plain": [
       "<Figure size 432x288 with 1 Axes>"
      ]
     },
     "metadata": {
      "needs_background": "light",
      "tags": []
     },
     "output_type": "display_data"
    },
    {
     "data": {
      "image/png": "[encoded data removed]",
      "text/plain": [
       "<Figure size 432x288 with 1 Axes>"
      ]
     },
     "metadata": {
      "needs_background": "light",
      "tags": []
     },
     "output_type": "display_data"
    },
    {
     "data": {
      "image/png": "[encoded data removed]",
      "text/plain": [
       "<Figure size 432x288 with 1 Axes>"
      ]
     },
     "metadata": {
      "needs_background": "light",
      "tags": []
     },
     "output_type": "display_data"
    },
    {
     "data": {
      "image/png": "[encoded data removed]",
      "text/plain": [
       "<Figure size 432x288 with 1 Axes>"
      ]
     },
     "metadata": {
      "needs_background": "light",
      "tags": []
     },
     "output_type": "display_data"
    },
    {
     "data": {
      "image/png": "[encoded data removed]",
      "text/plain": [
       "<Figure size 432x288 with 1 Axes>"
      ]
     },
     "metadata": {
      "needs_background": "light",
      "tags": []
     },
     "output_type": "display_data"
    },
    {
     "data": {
      "image/png": "[encoded data removed]",
      "text/plain": [
       "<Figure size 432x288 with 1 Axes>"
      ]
     },
     "metadata": {
      "needs_background": "light",
      "tags": []
     },
     "output_type": "display_data"
    },
    {
     "data": {
      "image/png": "[encoded data removed]",
      "text/plain": [
       "<Figure size 432x288 with 1 Axes>"
      ]
     },
     "metadata": {
      "needs_background": "light",
      "tags": []
     },
     "output_type": "display_data"
    },
    {
     "data": {
      "image/png": "[encoded data removed]",
      "text/plain": [
       "<Figure size 432x288 with 1 Axes>"
      ]
     },
     "metadata": {
      "needs_background": "light",
      "tags": []
     },
     "output_type": "display_data"
    }
   ],
   "source": [
    "# Make predictions.\n",
    "pred_dicts = list(estimator.experimental_predict_with_explanations(eval_input_fn))\n",
    "df_dfc = pd.DataFrame([pred['dfc'] for pred in pred_dicts])\n",
    "\n",
    "# Plot results.\n",
    "clear_output()\n",
    "\n",
    "TOP_N = 11  # View top 11 features.\n",
    "\n",
    "print(\"1's:\\n\")\n",
    "plots = 5\n",
    "for idx, pred in enumerate(pred_dicts):\n",
    "  prediction = pred['classes'][0].decode('utf-8')\n",
    "  if prediction == \"1\" and eval_labels[TRAINING_BATCH_SIZE+idx] == 1:\n",
    "    print(f\"Prediction: {pred['classes'][0].decode('utf-8')} |  Label: {eval_labels[TRAINING_BATCH_SIZE+idx]}\")\n",
    "\n",
    "    example = df_dfc.iloc[idx]  # Choose ith example from evaluation set.\n",
    "    sorted_ix = example.abs().sort_values()[-TOP_N:].index\n",
    "    plt.figure()\n",
    "    ax = example[sorted_ix].plot(kind='barh')\n",
    "\n",
    "    plots -= 1\n",
    "  \n",
    "  if plots == 0:\n",
    "    break\n",
    "  \n",
    "print(\"0's:\\n\")\n",
    "plots = 5\n",
    "for idx, pred in enumerate(pred_dicts):\n",
    "  prediction = pred['classes'][0].decode('utf-8')\n",
    "  if prediction == \"0\" and eval_labels[TRAINING_BATCH_SIZE+idx] == 0:\n",
    "    print(f\"Prediction: {pred['classes'][0].decode('utf-8')} |  Label: {eval_labels[TRAINING_BATCH_SIZE+idx]}\")\n",
    "\n",
    "    example = df_dfc.iloc[idx]  # Choose ith example from evaluation set.\n",
    "    sorted_ix = example.abs().sort_values()[-TOP_N:].index\n",
    "    plt.figure()\n",
    "    ax = example[sorted_ix].plot(kind='barh')\n",
    "\n",
    "    plots -= 1\n",
    "  \n",
    "  if plots == 0:\n",
    "    break"
   ]
  },
  {
   "cell_type": "code",
   "execution_count": null,
   "metadata": {
    "colab": {
     "base_uri": "https://localhost:8080/",
     "height": 265
    },
    "id": "6X2aQCFcK_HS",
    "outputId": "1a9909f1-24f4-4af1-9e90-370fd87b3f26"
   },
   "outputs": [
    {
     "data": {
      "image/png": "[encoded data removed]",
      "text/plain": [
       "<Figure size 432x288 with 1 Axes>"
      ]
     },
     "metadata": {
      "needs_background": "light",
      "tags": []
     },
     "output_type": "display_data"
    }
   ],
   "source": [
    "# Get importances\n",
    "importances = estimator.experimental_feature_importances(normalize=True)\n",
    "df_imp = pd.Series(importances)\n",
    "\n",
    "# Visualize importances.\n",
    "N = 13\n",
    "ax = (df_imp.iloc[0:N][::-1]\n",
    "    .plot(kind='barh'))"
   ]
  },
  {
   "cell_type": "markdown",
   "metadata": {
    "id": "5AybuE5tJuuP"
   },
   "source": [
    "# Test the model"
   ]
  },
  {
   "cell_type": "markdown",
   "metadata": {
    "id": "OfUfTtPVC-tS"
   },
   "source": [
    "Now we can use the train model to make predictions on a cluster from the evaluation set. \n",
    "\n",
    "TensorFlow models are optimized to make predictions on a batch, or collection, of examples at once. Earlier, the eval_input_fn is defined using the entire evaluation set."
   ]
  },
  {
   "cell_type": "code",
   "execution_count": null,
   "metadata": {
    "colab": {
     "base_uri": "https://localhost:8080/",
     "height": 281
    },
    "id": "29Wf4-GdDGRp",
    "outputId": "8325749c-63a4-4813-8a42-d0293fd626ac"
   },
   "outputs": [
    {
     "data": {
      "image/png": "[encoded data removed]",
      "text/plain": [
       "<Figure size 432x288 with 1 Axes>"
      ]
     },
     "metadata": {
      "needs_background": "light",
      "tags": []
     },
     "output_type": "display_data"
    }
   ],
   "source": [
    "pred_dicts = list(estimator.predict(eval_input_fn))\n",
    "probs = pd.Series([pred['probabilities'][1] for pred in pred_dicts])\n",
    "\n",
    "clear_output()\n",
    "probs.plot(kind='hist', bins=20, title='predicted probabilities')\n",
    "plt.show()\n",
    "\n",
    "\n",
    "# for idx, pred in enumerate(pred_dicts):\n",
    "#   print(f\"Prediction: {pred['classes'][0].decode('utf-8')} |  Label: {eval_labels[TRAINING_BATCH_SIZE+idx]}\")"
   ]
  },
  {
   "cell_type": "markdown",
   "metadata": {
    "id": "YkwIMpi2GG2Q"
   },
   "source": [
    "As we can see in the ROC curve below, the model behaves worse than a random classifier"
   ]
  },
  {
   "cell_type": "code",
   "execution_count": null,
   "metadata": {
    "colab": {
     "base_uri": "https://localhost:8080/",
     "height": 295
    },
    "id": "xhVJL139DyCA",
    "outputId": "2b0b1c12-ed64-4d5a-893c-fba78f4a8b78"
   },
   "outputs": [
    {
     "data": {
      "image/png": "[encoded data removed]",
      "text/plain": [
       "<Figure size 432x288 with 1 Axes>"
      ]
     },
     "metadata": {
      "needs_background": "light",
      "tags": []
     },
     "output_type": "display_data"
    }
   ],
   "source": [
    "from sklearn.metrics import roc_curve\n",
    "\n",
    "fpr, tpr, _ = roc_curve(eval_labels, probs)\n",
    "plt.plot(fpr, tpr)\n",
    "plt.title('ROC curve')\n",
    "plt.xlabel('false positive rate')\n",
    "plt.ylabel('true positive rate')\n",
    "plt.xlim(0,)\n",
    "plt.ylim(0,)\n",
    "plt.show()"
   ]
  }
 ],
 "metadata": {
  "colab": {
   "collapsed_sections": [],
   "name": "trace_model_estimator.ipynb",
   "provenance": []
  },
  "kernelspec": {
   "display_name": "Python 3",
   "language": "python",
   "name": "python3"
  },
  "language_info": {
   "codemirror_mode": {
    "name": "ipython",
    "version": 3
   },
   "file_extension": ".py",
   "mimetype": "text/x-python",
   "name": "python",
   "nbconvert_exporter": "python",
   "pygments_lexer": "ipython3",
   "version": "3.8.1"
  }
 },
 "nbformat": 4,
 "nbformat_minor": 1
}
