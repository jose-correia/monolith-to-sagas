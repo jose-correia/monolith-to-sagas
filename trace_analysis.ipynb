{
 "cells": [
  {
   "cell_type": "code",
   "execution_count": 136,
   "metadata": {
    "id": "gZDt3wiif5WS"
   },
   "outputs": [],
   "source": [
    "import json\n",
    "import matplotlib.pyplot as plt\n",
    "import numpy as np\n",
    "import tensorflow as tf\n",
    "\n",
    "entity_operation_id = 0"
   ]
  },
  {
   "cell_type": "code",
   "execution_count": 137,
   "metadata": {
    "id": "d3Y4C5JEg_Jb"
   },
   "outputs": [],
   "source": [
    "CODEBASE = \"LdoD\"\n",
    "FEATURES_TO_EXTRACT = [\"removeTweets\", \"approveParticipant\", \"associateCategory\", \"confirmRegistration\", \"createLinearVirtualEdition\"]"
   ]
  },
  {
   "cell_type": "markdown",
   "metadata": {
    "id": "zFpiKg-jsdNS"
   },
   "source": [
    "# **Data representations**"
   ]
  },
  {
   "cell_type": "markdown",
   "metadata": {
    "id": "VnZ4UVZckeeg"
   },
   "source": [
    "We will now define the main structures that will be used to store data on the feature and clusters"
   ]
  },
  {
   "cell_type": "code",
   "execution_count": 138,
   "metadata": {
    "id": "2Ptk1H1ckUqO"
   },
   "outputs": [],
   "source": [
    "class EntityMetrics():\n",
    "\n",
    "    def __init__(self):\n",
    "        # counts\n",
    "        self.read_operations = 0                          # Total number of read operations\n",
    "        self.write_operations = 0                         # Total number of write operations\n",
    "        self.operations = 0                               # Total number of times that an entity is accessed\n",
    "        self.pivot_operations = 0                  # Total number of other entities called between this entity operations\n",
    "        # averages\n",
    "        self.average_operations = 0.0    # Average number of times that an entity is accessed per cluster invocation\n",
    "        self.average_pivot_operations = 0.0              # Average number of other entities accessed between entity operations\n",
    "\n",
    "\n",
    "class Entity():\n",
    "    \n",
    "    def __init__(self, cluster_name, name):\n",
    "        self.cluster_name = cluster_name\n",
    "        self.name = name\n",
    "        self.metrics = EntityMetrics()\n",
    "        self.operation_ids = list()\n",
    "        self.invocation_ids = list()"
   ]
  },
  {
   "cell_type": "code",
   "execution_count": 139,
   "metadata": {
    "id": "QYLL0NJRlOri"
   },
   "outputs": [],
   "source": [
    "class Cluster():\n",
    "\n",
    "    def __init__(self, name):\n",
    "        self.name = name\n",
    "        self.metrics = ClusterMetrics()\n",
    "        self.entities = dict()\n",
    "        self.invocation_ids = list()\n",
    "\n",
    "    def get_or_create_entity(self, entity_name: str) -> Entity:\n",
    "        if not self.entities.get(entity_name):\n",
    "            self.entities[entity_name] = Entity(cluster_name=self.name, name=entity_name)\n",
    "        \n",
    "        return self.entities[entity_name]\n",
    "\n",
    "class ClusterMetrics():\n",
    "    \n",
    "    def __init__(self):\n",
    "        # counts\n",
    "        self.lock_invocations = 0                       # Total number of invocations that have one or more write operations\n",
    "        self.read_invocations = 0                       # Total number of invocations with only read operations, and no semantic lock\n",
    "        self.invocations = 0                            # Total number of times that a cluster appears in the trace\n",
    "        self.read_operations = 0                        # Total number of read operations in any given entity\n",
    "        self.write_operations = 0                       # Total number of write operations in any given entity\n",
    "        self.operations = 0                             # Total number of opperations in the entities of the cluster\n",
    "        self.pivot_invocations = 0                      # Total number of external clusters accessed between all cluster invocations\n",
    "        # averages\n",
    "        self.average_invocation_operations = 0.0        # Average number of total entity operations per cluster invocations\n",
    "        self.average_invocation_read_operations = 0.0   # Average number of read entity operations per cluster invocations\n",
    "        self.average_invocation_write_operations = 0.0  # Average number of write entity operations per cluster invocations\n",
    "        self.average_pivot_invocations = 0.0            # Average number of other clusters called between each cluster invocation\n",
    "        # cluster probabilities\n",
    "        self.lock_invocation_probability = 0.0\n",
    "        self.read_invocation_probability = 0.0\n",
    "        self.read_operation_probability = 0.0\n",
    "        self.write_operation_probability = 0.0\n",
    "        # feature-cluster probabilities\n",
    "        self.invocation_probability = 0.0\n",
    "        self.operation_probability = 0.0\n",
    "        # factors\n",
    "        self.pivot_invocations_factor = 0.0\n",
    "        self.invocation_operations_factor = 0.0"
   ]
  },
  {
   "cell_type": "code",
   "execution_count": 140,
   "metadata": {
    "id": "s_MLFUSwlYxC"
   },
   "outputs": [],
   "source": [
    "class Feature():\n",
    "\n",
    "    def __init__(self, name):\n",
    "        self.name = name\n",
    "        self.metrics = FeatureMetrics()\n",
    "        self.clusters = dict()\n",
    "\n",
    "    def get_or_create_cluster(self, cluster_name: str) -> Cluster:\n",
    "        if not self.clusters.get(cluster_name):\n",
    "            self.clusters[cluster_name] = Cluster(name=cluster_name)\n",
    "        \n",
    "        return self.clusters[cluster_name]\n",
    "\n",
    "class FeatureMetrics():\n",
    "\n",
    "    def __init__(self):\n",
    "        self.complexity = 0.0\n",
    "        # counts\n",
    "        self.clusters = 0\n",
    "        self.lock_invocations = 0\n",
    "        self.read_invocations = 0\n",
    "        self.invocations = 0\n",
    "        self.read_operations = 0\n",
    "        self.write_operations = 0\n",
    "        self.operations = 0\n",
    "        # averages\n",
    "        self.average_invocation_operations = 0.0\n",
    "        self.average_invocation_read_operations = 0.0\n",
    "        self.average_invocation_write_operations = 0.0\n",
    "        self.average_pivot_invocations = 0.0"
   ]
  },
  {
   "cell_type": "markdown",
   "metadata": {
    "id": "HPVFpHlwsm7C"
   },
   "source": [
    "# ➗ **Metrics calculation**"
   ]
  },
  {
   "cell_type": "code",
   "execution_count": 141,
   "metadata": {
    "id": "Ep_XFMIkltKd"
   },
   "outputs": [],
   "source": [
    "def calculate_invocation_metrics(feature: Feature, cluster: Cluster, trace_invocation): \n",
    "    global entity_operation_id\n",
    "    has_semantick_lock = False\n",
    "\n",
    "    feature.metrics.invocations += 1\n",
    "    cluster.metrics.invocations += 1\n",
    "\n",
    "    entity_operations = json.loads(trace_invocation[\"accessedEntities\"])\n",
    "    for entity_operation in entity_operations:\n",
    "        entity_name = entity_operation[0]\n",
    "        operation = entity_operation[1]\n",
    "\n",
    "        entity = cluster.get_or_create_entity(entity_name)\n",
    "\n",
    "        entity.invocation_ids.append(cluster.invocation_ids[len(cluster.invocation_ids) - 1])\n",
    "        entity.operation_ids.append(entity_operation_id)\n",
    "        entity_operation_id += 1\n",
    "\n",
    "        feature.metrics.operations += 1\n",
    "        cluster.metrics.operations += 1\n",
    "        entity.metrics.operations += 1\n",
    "\n",
    "        if operation == \"R\":\n",
    "            feature.metrics.read_operations += 1\n",
    "            cluster.metrics.read_operations += 1\n",
    "            entity.metrics.read_operations += 1\n",
    "\n",
    "        elif operation == \"W\":\n",
    "            feature.metrics.write_operations += 1\n",
    "            cluster.metrics.write_operations += 1\n",
    "            entity.metrics.write_operations += 1\n",
    "            has_semantick_lock = True\n",
    "\n",
    "    if has_semantick_lock:\n",
    "        feature.metrics.lock_invocations += 1\n",
    "        cluster.metrics.lock_invocations += 1\n",
    "    else:\n",
    "        feature.metrics.read_invocations += 1\n",
    "        cluster.metrics.read_invocations += 1\n"
   ]
  },
  {
   "cell_type": "code",
   "execution_count": 142,
   "metadata": {
    "id": "Vc1a0f2alwSI"
   },
   "outputs": [],
   "source": [
    "def calculate_cluster_averages(feature: Feature, cluster: Cluster):\n",
    "    cluster.metrics.average_invocation_operations = float(cluster.metrics.operations / cluster.metrics.invocations)\n",
    "    cluster.metrics.average_invocation_read_operations = float(cluster.metrics.read_operations / cluster.metrics.invocations)\n",
    "    cluster.metrics.average_invocation_write_operations = float(cluster.metrics.write_operations / cluster.metrics.invocations)\n",
    "\n",
    "    if cluster.metrics.invocations > 1:\n",
    "        cluster.metrics.average_pivot_invocations = float(cluster.metrics.pivot_invocations / (cluster.metrics.invocations - 1))\n",
    "\n",
    "\n",
    "def calculate_cluster_probabilities(feature: Feature, cluster: Cluster):\n",
    "    cluster.metrics.lock_invocation_probability = float(cluster.metrics.lock_invocations / cluster.metrics.invocations)\n",
    "    cluster.metrics.read_invocation_probability = float(cluster.metrics.read_invocations / cluster.metrics.invocations)\n",
    "    cluster.metrics.read_operation_probability = float(cluster.metrics.read_operations / cluster.metrics.operations)\n",
    "    cluster.metrics.write_operation_probability = float(cluster.metrics.write_operations / cluster.metrics.operations)\n",
    "    cluster.metrics.invocation_probability = float(cluster.metrics.invocations / feature.metrics.invocations)\n",
    "    cluster.metrics.operation_probability = float(cluster.metrics.operations / feature.metrics.operations)\n",
    "\n",
    "\n",
    "def calculate_cluster_factors(feature: Feature, cluster: Cluster):\n",
    "    cluster.metrics.pivot_invocations_factor = float(cluster.metrics.average_pivot_invocations / feature.metrics.average_pivot_invocations)\n",
    "    cluster.metrics.invocation_operations_factor = float(cluster.metrics.average_invocation_operations / feature.metrics.average_invocation_operations)"
   ]
  },
  {
   "cell_type": "code",
   "execution_count": 143,
   "metadata": {
    "id": "VhocjW8YlzRT"
   },
   "outputs": [],
   "source": [
    "def update_feature_averages(feature: Feature, cluster: Cluster):\n",
    "    feature.metrics.average_invocation_operations += float(cluster.metrics.average_invocation_operations / feature.metrics.clusters)\n",
    "    feature.metrics.average_invocation_read_operations += float(cluster.metrics.average_invocation_read_operations / feature.metrics.clusters)\n",
    "    feature.metrics.average_invocation_write_operations += float(cluster.metrics.average_invocation_write_operations / feature.metrics.clusters)\n",
    "    feature.metrics.average_pivot_invocations += float(cluster.metrics.average_pivot_invocations / feature.metrics.clusters)"
   ]
  },
  {
   "cell_type": "code",
   "execution_count": 144,
   "metadata": {
    "id": "56s2WgUhl1VD"
   },
   "outputs": [],
   "source": [
    "def calculate_entity_averages(cluster: Cluster, entity: Entity):\n",
    "    entity.metrics.average_operations = float(entity.metrics.operations / cluster.metrics.invocations)\n",
    "\n",
    "    # entity.metrics.average_pivot_entity_operations"
   ]
  },
  {
   "cell_type": "code",
   "execution_count": 145,
   "metadata": {
    "id": "FpsoINBxl2_D"
   },
   "outputs": [],
   "source": [
    "def calculate_final_metrics(feature: Feature):\n",
    "    for _, cluster in feature.clusters.items():\n",
    "        cluster.metrics.pivot_invocations = feature.metrics.invocations - cluster.metrics.invocations - cluster.invocation_ids[0] - (feature.metrics.invocations - cluster.invocation_ids[len(cluster.invocation_ids) - 1] - 1) # WE HAVE TO REMOVE THE NUMBER OF INVOCATIONS BEFORE THE FIRST ONE AND AFTER THE LAST ONE OF THIS CLUSTER\n",
    "\n",
    "        calculate_cluster_averages(feature, cluster)\n",
    "        calculate_cluster_probabilities(feature, cluster)\n",
    "\n",
    "        update_feature_averages(feature, cluster)\n",
    "        \n",
    "        for _, entity in cluster.entities.items():\n",
    "            calculate_entity_averages(cluster, entity)\n",
    "\n",
    "    for _, cluster in feature.clusters.items():\n",
    "        calculate_cluster_factors(feature, cluster)"
   ]
  },
  {
   "cell_type": "markdown",
   "metadata": {
    "id": "l6kLPqcvsukY"
   },
   "source": [
    "# ✅ **Main script execution**"
   ]
  },
  {
   "cell_type": "markdown",
   "metadata": {
    "id": "Qq3rrFx9jU3M"
   },
   "source": [
    "Next we define a method to **extract the data from each one of the trace files** into a list. \n",
    "This will contain all of the traces that will then be analyzed"
   ]
  },
  {
   "cell_type": "code",
   "execution_count": 146,
   "metadata": {
    "id": "NtIl3jHlhSqj"
   },
   "outputs": [],
   "source": [
    "def extract_traces():\n",
    "  data = list()\n",
    "  for feature_name in FEATURES_TO_EXTRACT:\n",
    "    with open(f\"{feature_name}.json\") as json_file:\n",
    "      data.append(json.load(json_file))\n",
    "  return data"
   ]
  },
  {
   "cell_type": "code",
   "execution_count": 147,
   "metadata": {
    "id": "zS22fdTPmh1U"
   },
   "outputs": [],
   "source": [
    "def extract_trace_metrics(trace_data) -> Feature:\n",
    "  feature = Feature(name=trace_data[\"name\"])\n",
    "  feature.metrics.complexity = float(trace_data[\"complexity\"])\n",
    "\n",
    "  for trace_invocation in trace_data[\"functionalityRedesigns\"][0][\"redesign\"]:\n",
    "      invocation_id = int(trace_invocation[\"id\"])\n",
    "      if invocation_id == -1:\n",
    "          continue\n",
    "\n",
    "      if not feature.clusters.get(trace_invocation[\"cluster\"]):\n",
    "          feature.metrics.clusters += 1\n",
    "\n",
    "      cluster = feature.get_or_create_cluster(trace_invocation[\"cluster\"])\n",
    "      cluster.invocation_ids.append(invocation_id)\n",
    "\n",
    "      calculate_invocation_metrics(feature, cluster, trace_invocation)\n",
    "\n",
    "  calculate_final_metrics(feature)\n",
    "  return feature"
   ]
  },
  {
   "cell_type": "code",
   "execution_count": 148,
   "metadata": {
    "id": "q2_gewNYmoeO"
   },
   "outputs": [],
   "source": [
    "trace_data = extract_traces()\n",
    "\n",
    "features = list()\n",
    "for trace in trace_data:\n",
    "  feature = extract_trace_metrics(trace)\n",
    "  features.append(feature)"
   ]
  },
  {
   "cell_type": "markdown",
   "metadata": {
    "id": "ewDqKaWFs_sI"
   },
   "source": [
    "# 📊 **Data visualization**"
   ]
  },
  {
   "cell_type": "markdown",
   "metadata": {
    "id": "nMWDYBbl0Npy"
   },
   "source": [
    "First we set the feature we want to visualize"
   ]
  },
  {
   "cell_type": "code",
   "execution_count": 149,
   "metadata": {
    "id": "XwpGZmdB0HQZ"
   },
   "outputs": [],
   "source": [
    "feature = features[0]"
   ]
  },
  {
   "cell_type": "markdown",
   "metadata": {
    "id": "OovzqTCVFZi0"
   },
   "source": [
    "## Plot helper methods"
   ]
  },
  {
   "cell_type": "code",
   "execution_count": 150,
   "metadata": {
    "id": "BC9pLhw_x-he"
   },
   "outputs": [],
   "source": [
    "def plot_table(cellText, colLabels):\n",
    "  fig, ax = plt.subplots()\n",
    "  fig.set_figheight(1)\n",
    "\n",
    "  # hide axes\n",
    "  fig.patch.set_visible(False)\n",
    "  ax.axis('off')\n",
    "  ax.axis('tight')\n",
    "  the_table = ax.table(cellText=cellText, colLabels=colLabels, loc='center')\n",
    "  the_table.scale(2, 2)\n",
    "\n",
    "\n",
    "def plot_multiple_bars(\n",
    "    y_values_matrix, y_values_labels, y_legend, x_values, x_legend,\n",
    "):\n",
    "  # set width of bar \n",
    "  barWidth = 0.15\n",
    "  fig = plt.subplots(figsize =(8, 4)) \n",
    "\n",
    "  colors = ['bisque', 'rosybrown', 'palegreen', 'turquoise', 'plum']\n",
    "    \n",
    "  # Set position of bar on X axis \n",
    "  br = [np.arange(len(y_values_matrix[0]))]\n",
    "  for idx, _ in enumerate(y_values_matrix):\n",
    "    br.append([x + barWidth for x in br[idx]]) \n",
    "    \n",
    "  # Make the plot\n",
    "  for idx, values in enumerate(y_values_matrix):\n",
    "    plt.bar(br[idx], values, color = colors[idx], width = barWidth, \n",
    "            edgecolor = 'grey', label = y_values_labels[idx]) \n",
    "\n",
    "  # Adding Xticks  \n",
    "  plt.xlabel(x_legend, fontweight ='bold') \n",
    "  plt.ylabel( y_legend, fontweight ='bold') \n",
    "  plt.xticks([r + barWidth for r in range(len(y_values_matrix[0]))], x_values) \n",
    "  leg = plt.legend()\n",
    "\n",
    "  plt.show()\n",
    "\n",
    "\n",
    "def plot_probability_stacked_bars(\n",
    "    y_values_matrix, y_values_labels, y_legend, x_values, x_legend\n",
    "):\n",
    "  N = len(y_values_matrix[0])\n",
    "\n",
    "  ind = np.arange(N)    \n",
    "  width = 0.35  \n",
    "    \n",
    "  fig = plt.subplots(figsize = (8, 5)) \n",
    "  \n",
    "  t = ()\n",
    "  for idx, values in enumerate(y_values_matrix):\n",
    "    if idx == 0:\n",
    "      p = plt.bar(ind, values, width) \n",
    "    else:\n",
    "      p = plt.bar(ind, values, width, bottom = y_values_matrix[idx-1]) \n",
    "    t += (p[0],)\n",
    "\n",
    "  plt.ylabel(y_legend) \n",
    "  plt.title(x_legend) \n",
    "  plt.xticks(ind, x_values) \n",
    "  plt.yticks(np.arange(0, 1.3, 0.1)) \n",
    "  plt.legend(t, y_values_labels) \n",
    "    \n",
    "  plt.show() "
   ]
  },
  {
   "cell_type": "markdown",
   "metadata": {
    "id": "NJcxAF2-t_pJ"
   },
   "source": [
    "## Feature metrics"
   ]
  },
  {
   "cell_type": "code",
   "execution_count": 151,
   "metadata": {
    "colab": {
     "base_uri": "https://localhost:8080/",
     "height": 0
    },
    "id": "RMJnOYWMnLFr",
    "outputId": "64d46a40-1e5a-407e-f027-fa81055442ac"
   },
   "outputs": [
    {
     "name": "stdout",
     "output_type": "stream",
     "text": [
      "Feature name:\n",
      " AdminController.removeTweets\n"
     ]
    },
    {
     "data": {
      "image/png": "[encoded data removed]",
      "text/plain": [
       "<Figure size 432x72 with 1 Axes>"
      ]
     },
     "metadata": {
      "needs_background": "light",
      "tags": []
     },
     "output_type": "display_data"
    }
   ],
   "source": [
    "print(\"Feature name:\\n\",feature.name)\n",
    "plot_table(\n",
    "    cellText=[\n",
    "              [\n",
    "                feature.metrics.complexity,\n",
    "                feature.metrics.clusters,\n",
    "                feature.metrics.invocations,\n",
    "                feature.metrics.operations,\n",
    "              ]\n",
    "            ],\n",
    "    colLabels=[\n",
    "                \"Complexity\",\n",
    "                \"Clusters\",\n",
    "                \"Invocations\",\n",
    "                \"Operations\"\n",
    "              ],\n",
    ")"
   ]
  },
  {
   "cell_type": "markdown",
   "metadata": {
    "id": "mZwwyFSo02Jg"
   },
   "source": [
    "## Cluster metrics"
   ]
  },
  {
   "cell_type": "markdown",
   "metadata": {
    "id": "NrjZ2wnY06Zp"
   },
   "source": [
    "### Counts"
   ]
  },
  {
   "cell_type": "code",
   "execution_count": 152,
   "metadata": {
    "colab": {
     "base_uri": "https://localhost:8080/",
     "height": 0
    },
    "id": "DhzTeHLFx1CJ",
    "outputId": "8a3b10c9-a2e4-4261-a8e0-e02d3adf5488"
   },
   "outputs": [
    {
     "name": "stdout",
     "output_type": "stream",
     "text": [
      "Cluster counts:\n"
     ]
    },
    {
     "data": {
      "image/png": "[encoded data removed]",
      "text/plain": [
       "<Figure size 432x72 with 1 Axes>"
      ]
     },
     "metadata": {
      "needs_background": "light",
      "tags": []
     },
     "output_type": "display_data"
    }
   ],
   "source": [
    "print(\"Cluster counts:\")\n",
    "plot_table(\n",
    "    cellText=[\n",
    "              [\n",
    "                cluster.name,\n",
    "                cluster.metrics.invocations,\n",
    "                cluster.metrics.lock_invocations,\n",
    "                cluster.metrics.read_invocations,\n",
    "                cluster.metrics.operations,\n",
    "                cluster.metrics.read_operations,\n",
    "                cluster.metrics.write_operations, \n",
    "                cluster.metrics.pivot_invocations,\n",
    "              ] for _, cluster in feature.clusters.items()\n",
    "            ],\n",
    "    colLabels=[\n",
    "                \"Name\",\n",
    "                \"CI\",\n",
    "                \"CLI\",\n",
    "                \"CRI\",\n",
    "                \"CO\",\n",
    "                \"CRO\",\n",
    "                \"CWO\",\n",
    "                \"CPI\",\n",
    "              ],\n",
    ")"
   ]
  },
  {
   "cell_type": "markdown",
   "metadata": {
    "id": "pfIs-B5u1JOb"
   },
   "source": [
    "### Averages"
   ]
  },
  {
   "cell_type": "code",
   "execution_count": 153,
   "metadata": {
    "colab": {
     "base_uri": "https://localhost:8080/",
     "height": 0
    },
    "id": "BGzSj-Ij0fjE",
    "outputId": "1c29f4c7-b306-4e24-f0c5-7b0495eabb5f"
   },
   "outputs": [
    {
     "name": "stdout",
     "output_type": "stream",
     "text": [
      "Cluster averages:\n"
     ]
    },
    {
     "data": {
      "image/png": "[encoded data removed]",
      "text/plain": [
       "<Figure size 432x72 with 1 Axes>"
      ]
     },
     "metadata": {
      "needs_background": "light",
      "tags": []
     },
     "output_type": "display_data"
    },
    {
     "data": {
      "image/png": "[encoded data removed]",
      "text/plain": [
       "<Figure size 576x288 with 1 Axes>"
      ]
     },
     "metadata": {
      "needs_background": "light",
      "tags": []
     },
     "output_type": "display_data"
    }
   ],
   "source": [
    "print(\"Cluster averages:\")\n",
    "# table\n",
    "averages_matrix = [\n",
    "                   [\n",
    "                    cluster.name,\n",
    "                    cluster.metrics.average_invocation_operations,\n",
    "                    cluster.metrics.average_invocation_read_operations,\n",
    "                    cluster.metrics.average_invocation_write_operations,\n",
    "                    cluster.metrics.average_pivot_invocations,\n",
    "                   ] for _, cluster in feature.clusters.items()\n",
    "]\n",
    "\n",
    "plot_table(\n",
    "    cellText=averages_matrix,\n",
    "    colLabels=[\"Name\", \"ACIO\", \"ACIRO\", \"ACIWO\", \"ACPI\"],\n",
    ")\n",
    "\n",
    "# bar plot\n",
    "averages_matrix = [\n",
    "                   [cluster.metrics.average_invocation_operations for _, cluster in feature.clusters.items()],\n",
    "                   [cluster.metrics.average_invocation_read_operations for _, cluster in feature.clusters.items()],\n",
    "                   [cluster.metrics.average_invocation_write_operations for _, cluster in feature.clusters.items()],\n",
    "                   [cluster.metrics.average_pivot_invocations for _, cluster in feature.clusters.items()],\n",
    "]\n",
    "\n",
    "plot_multiple_bars(\n",
    "    y_values_matrix=averages_matrix,\n",
    "    y_values_labels=[\"ACIO\",\"ACIRO\",\"ACIWO\", \"ACPI\"],\n",
    "    y_legend=\"Averages\",\n",
    "    x_values=[cluster.name for _, cluster in feature.clusters.items()],\n",
    "    x_legend=\"Cluster name\",\n",
    ")"
   ]
  },
  {
   "cell_type": "markdown",
   "metadata": {
    "id": "n_z9Pjdw1MXZ"
   },
   "source": [
    "### Inside-cluster Probabilities"
   ]
  },
  {
   "cell_type": "code",
   "execution_count": 154,
   "metadata": {
    "colab": {
     "base_uri": "https://localhost:8080/",
     "height": 0
    },
    "id": "UBl7RXOP0heo",
    "outputId": "f37f07e6-5a52-4306-f8c0-ba56a632d1b2"
   },
   "outputs": [
    {
     "name": "stdout",
     "output_type": "stream",
     "text": [
      "Inner cluster probabilities:\n"
     ]
    },
    {
     "data": {
      "image/png": "[encoded data removed]",
      "text/plain": [
       "<Figure size 432x72 with 1 Axes>"
      ]
     },
     "metadata": {
      "needs_background": "light",
      "tags": []
     },
     "output_type": "display_data"
    },
    {
     "data": {
      "image/png": "[encoded data removed]",
      "text/plain": [
       "<Figure size 576x360 with 1 Axes>"
      ]
     },
     "metadata": {
      "needs_background": "light",
      "tags": []
     },
     "output_type": "display_data"
    },
    {
     "data": {
      "image/png": "[encoded data removed]",
      "text/plain": [
       "<Figure size 576x360 with 1 Axes>"
      ]
     },
     "metadata": {
      "needs_background": "light",
      "tags": []
     },
     "output_type": "display_data"
    }
   ],
   "source": [
    "print(\"Inner cluster probabilities:\")\n",
    "plot_table(\n",
    "    cellText=[\n",
    "              [\n",
    "                cluster.name,\n",
    "                cluster.metrics.lock_invocation_probability,\n",
    "                cluster.metrics.read_invocation_probability,\n",
    "                cluster.metrics.read_operation_probability,\n",
    "                cluster.metrics.write_operation_probability,\n",
    "              ] for _, cluster in feature.clusters.items()\n",
    "            ],\n",
    "    colLabels=[\"Name\", \"CLIP\", \"CRIP\", \"CROP\", \"CWOP\"],\n",
    ")\n",
    "\n",
    "\n",
    "plot_probability_stacked_bars(\n",
    "    y_values_matrix=[\n",
    "                   [cluster.metrics.lock_invocation_probability for _, cluster in feature.clusters.items()],\n",
    "                   [cluster.metrics.read_invocation_probability for _, cluster in feature.clusters.items()],\n",
    "    ],\n",
    "    y_values_labels=(\"CLIP\", \"CRIP\"),\n",
    "    y_legend=\"Probability\",\n",
    "    x_values=(cluster.name for _, cluster in feature.clusters.items()),\n",
    "    x_legend=\"Probability by cluster\",\n",
    ")  \n",
    "\n",
    "plot_probability_stacked_bars(\n",
    "    y_values_matrix=[\n",
    "                   [cluster.metrics.write_operation_probability for _, cluster in feature.clusters.items()],\n",
    "                   [cluster.metrics.read_operation_probability for _, cluster in feature.clusters.items()],\n",
    "    ],\n",
    "    y_values_labels=(\"CWOP\", \"CROP\"),\n",
    "    y_legend=\"Probability\",\n",
    "    x_values=(cluster.name for _, cluster in feature.clusters.items()),\n",
    "    x_legend=\"Probability by cluster\",\n",
    ")"
   ]
  },
  {
   "cell_type": "markdown",
   "metadata": {
    "id": "2oTxlR8z0uGY"
   },
   "source": [
    "### Outside-cluster probabilities"
   ]
  },
  {
   "cell_type": "code",
   "execution_count": 155,
   "metadata": {
    "colab": {
     "base_uri": "https://localhost:8080/",
     "height": 0
    },
    "id": "NOuDPS240kef",
    "outputId": "e98f9f32-78a8-4ca9-be82-b03cfbc7883b"
   },
   "outputs": [
    {
     "name": "stdout",
     "output_type": "stream",
     "text": [
      "Cluster/Feature probabilities:\n"
     ]
    },
    {
     "data": {
      "image/png": "[encoded data removed]",
      "text/plain": [
       "<Figure size 432x72 with 1 Axes>"
      ]
     },
     "metadata": {
      "needs_background": "light",
      "tags": []
     },
     "output_type": "display_data"
    },
    {
     "data": {
      "image/png": "[encoded data removed]",
      "text/plain": [
       "<Figure size 576x360 with 1 Axes>"
      ]
     },
     "metadata": {
      "needs_background": "light",
      "tags": []
     },
     "output_type": "display_data"
    }
   ],
   "source": [
    "print(\"Cluster/Feature probabilities:\")\n",
    "plot_table(\n",
    "    cellText=[\n",
    "              [\n",
    "                cluster.name,\n",
    "                cluster.metrics.invocation_probability,\n",
    "                cluster.metrics.operation_probability,\n",
    "              ] for _, cluster in feature.clusters.items()\n",
    "            ],\n",
    "    colLabels=[\n",
    "                \"Name\",\n",
    "                \"CIP\",\n",
    "                \"COP\",\n",
    "              ],\n",
    ")\n",
    "\n",
    "plot_probability_stacked_bars(\n",
    "    y_values_matrix=[\n",
    "                   [\n",
    "                    cluster.metrics.invocation_probability, \n",
    "                    cluster.metrics.operation_probability,\n",
    "                   ] for _, cluster in feature.clusters.items()\n",
    "    ],\n",
    "    y_values_labels=(cluster.name for _, cluster in feature.clusters.items()),\n",
    "    y_legend=\"Probability\",\n",
    "    x_values=(\"CIP\", \"COP\"),\n",
    "    x_legend=\"Probability by cluster\",\n",
    ")"
   ]
  },
  {
   "cell_type": "markdown",
   "metadata": {
    "id": "DxmMzrdH1SbL"
   },
   "source": [
    "### Factors"
   ]
  },
  {
   "cell_type": "code",
   "execution_count": 156,
   "metadata": {
    "colab": {
     "base_uri": "https://localhost:8080/",
     "height": 0
    },
    "id": "Scy4a6e30me4",
    "outputId": "e3796e21-26a8-4fe1-b449-bfd733e91900"
   },
   "outputs": [
    {
     "name": "stdout",
     "output_type": "stream",
     "text": [
      "Cluster factors:\n"
     ]
    },
    {
     "data": {
      "image/png": "[encoded data removed]",
      "text/plain": [
       "<Figure size 432x72 with 1 Axes>"
      ]
     },
     "metadata": {
      "needs_background": "light",
      "tags": []
     },
     "output_type": "display_data"
    },
    {
     "data": {
      "image/png": "[encoded data removed]",
      "text/plain": [
       "<Figure size 576x288 with 1 Axes>"
      ]
     },
     "metadata": {
      "needs_background": "light",
      "tags": []
     },
     "output_type": "display_data"
    },
    {
     "data": {
      "image/png": "[encoded data removed]",
      "text/plain": [
       "<Figure size 576x288 with 1 Axes>"
      ]
     },
     "metadata": {
      "needs_background": "light",
      "tags": []
     },
     "output_type": "display_data"
    }
   ],
   "source": [
    "print(\"Cluster factors:\")\n",
    "plot_table(\n",
    "    cellText=[\n",
    "              [\n",
    "                cluster.name,\n",
    "                cluster.metrics.pivot_invocations_factor,\n",
    "                cluster.metrics.invocation_operations_factor,\n",
    "              ] for _, cluster in feature.clusters.items()\n",
    "            ],\n",
    "    colLabels=[\n",
    "                \"Name\",\n",
    "                \"CPIF\",\n",
    "                \"CIOF\",\n",
    "              ],\n",
    ")\n",
    "\n",
    "plot_multiple_bars(\n",
    "    y_values_matrix=[\n",
    "                   [cluster.metrics.pivot_invocations_factor for _, cluster in feature.clusters.items()],\n",
    "    ],\n",
    "    y_values_labels=[\"CPIF\"],\n",
    "    y_legend=\"Factors\",\n",
    "    x_values=[cluster.name for _, cluster in feature.clusters.items()],\n",
    "    x_legend=\"Cluster name\",\n",
    ")\n",
    "\n",
    "plot_multiple_bars(\n",
    "    y_values_matrix=[\n",
    "                   [cluster.metrics.invocation_operations_factor for _, cluster in feature.clusters.items()],\n",
    "    ],\n",
    "    y_values_labels=[\"CIOF\"],\n",
    "    y_legend=\"Factors\",\n",
    "    x_values=[cluster.name for _, cluster in feature.clusters.items()],\n",
    "    x_legend=\"Cluster name\",\n",
    ")"
   ]
  },
  {
   "cell_type": "markdown",
   "metadata": {
    "id": "VqUBzBEx8Jmz"
   },
   "source": [
    "# Data extraction"
   ]
  },
  {
   "cell_type": "markdown",
   "metadata": {
    "id": "YyhKFq7p-jF6"
   },
   "source": [
    "The training vector we are using has the following format. Features are identified in the first column and the clusters in the second. Then we follow the data with the metrics we are using to train the model.\n",
    "\n",
    "\n",
    "In this part we want to generate a **.csv file** that can then be loaded into our Tensorflow engine."
   ]
  },
  {
   "cell_type": "markdown",
   "metadata": {
    "id": "mM4ALoMQ86VS"
   },
   "source": [
    "| Feature | Cluster | CLIP  | CRIP | CROP  | CWOP | CIP | COP | CPIF | CIOF |\n",
    "|---|---|---|---|---|---|---|---|---|---|\t\t\n",
    "| AdminController.removeTweets | Text | 0.4 | 0.6 | 0.33 | 0.66 | 0.2 | 0.4 | 1.4 | 0.8 |\t\t\t\n",
    "| AdminController.removeTweets | VirtualEdition  | 0.4 | 0.6 | 0.33 | 0.66 | 0.3 | 0.4 | 1.4 | 0.8 |\t\t\t\n",
    "| AdminController.removeTweets |  Twitter | 0.4 | 0.6 | 0.33 | 0.66 | 0.4 | 0.3 | 0.7 | 0.2 |\t\t\t"
   ]
  },
  {
   "cell_type": "code",
   "execution_count": 157,
   "metadata": {
    "id": "aYyAkIYS8P_e"
   },
   "outputs": [],
   "source": [
    "import csv\n",
    "\n",
    "with open('trace_analysis.csv', 'w', newline='') as file:\n",
    "    writer = csv.writer(file)\n",
    "    writer.writerow([\"Feature\", \"Cluster\", \"CLIP\", \"CRIP\", \"CROP\", \"CWOP\", \"CIP\", \"COP\", \"CPIF\", \"CIOF\"])\n",
    "    \n",
    "    for feature in features:\n",
    "      for _, cluster in feature.clusters.items():\n",
    "        writer.writerow(\n",
    "            [\n",
    "             feature.name,\n",
    "             cluster.name,\n",
    "             cluster.metrics.lock_invocation_probability,\n",
    "             cluster.metrics.read_invocation_probability,\n",
    "             cluster.metrics.read_operation_probability,\n",
    "             cluster.metrics.write_operation_probability,\n",
    "             cluster.metrics.invocation_probability,\n",
    "             cluster.metrics.operation_probability,\n",
    "             cluster.metrics.pivot_invocations_factor,\n",
    "             cluster.metrics.invocation_operations_factor,\n",
    "            ]\n",
    "        )\n",
    "    "
   ]
  }
 ],
 "metadata": {
  "colab": {
   "collapsed_sections": [
    "zFpiKg-jsdNS",
    "HPVFpHlwsm7C",
    "l6kLPqcvsukY",
    "NJcxAF2-t_pJ",
    "NrjZ2wnY06Zp",
    "pfIs-B5u1JOb",
    "n_z9Pjdw1MXZ",
    "2oTxlR8z0uGY",
    "DxmMzrdH1SbL"
   ],
   "name": "trace_analysis.ipynb",
   "provenance": []
  },
  "kernelspec": {
   "display_name": "Python 3",
   "language": "python",
   "name": "python3"
  },
  "language_info": {
   "codemirror_mode": {
    "name": "ipython",
    "version": 3
   },
   "file_extension": ".py",
   "mimetype": "text/x-python",
   "name": "python",
   "nbconvert_exporter": "python",
   "pygments_lexer": "ipython3",
   "version": "3.8.1"
  }
 },
 "nbformat": 4,
 "nbformat_minor": 1
}
